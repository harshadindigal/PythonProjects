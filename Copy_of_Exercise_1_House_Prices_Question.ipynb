{
  "nbformat": 4,
  "nbformat_minor": 0,
  "metadata": {
    "colab": {
      "name": "Copy of Exercise 1 - House Prices - Question.ipynb",
      "version": "0.3.2",
      "provenance": [],
      "include_colab_link": true
    },
    "kernelspec": {
      "name": "python3",
      "display_name": "Python 3"
    }
  },
  "cells": [
    {
      "cell_type": "markdown",
      "metadata": {
        "id": "view-in-github",
        "colab_type": "text"
      },
      "source": [
        "<a href=\"https://colab.research.google.com/github/harshadindigal/PythonProjects/blob/master/Copy_of_Exercise_1_House_Prices_Question.ipynb\" target=\"_parent\"><img src=\"https://colab.research.google.com/assets/colab-badge.svg\" alt=\"Open In Colab\"/></a>"
      ]
    },
    {
      "cell_type": "markdown",
      "metadata": {
        "id": "mw2VBrBcgvGa",
        "colab_type": "text"
      },
      "source": [
        "In this exercise you'll try to build a neural network that predicts the price of a house according to a simple formula.\n",
        "\n",
        "So, imagine if house pricing was as easy as a house costs 50k + 50k per bedroom, so that a 1 bedroom house costs 100k, a 2 bedroom house costs 150k etc.\n",
        "\n",
        "How would you create a neural network that learns this relationship so that it would predict a 7 bedroom house as costing close to 400k etc.\n",
        "\n",
        "Hint: Your network might work better if you scale the house price down. You don't have to give the answer 400...it might be better to create something that predicts the number 4, and then your answer is in the 'hundreds of thousands' etc."
      ]
    },
    {
      "cell_type": "code",
      "metadata": {
        "id": "PUNO2E6SeURH",
        "colab_type": "code",
        "outputId": "3c22202f-605d-4350-9d05-877470325e9d",
        "colab": {
          "base_uri": "https://localhost:8080/",
          "height": 224
        }
      },
      "source": [
        "import tensorflow as tf\n",
        "import numpy as np\n",
        "from tensorflow import keras\n",
        "from keras.models import Sequential\n",
        "from keras.layers import Dense\n",
        "\n",
        "model = Sequential()\n",
        "model.add(Dense(2, input_dim=1))\n",
        "model.add(Dense(1))\n",
        "model.compile(optimizer= 'sgd',loss='mse', metrics=['mse', 'mae', 'mape', 'cosine'])\n",
        "xs = np.array([1,2,3,4,5])\n",
        "ys = np.array([1,1.5,2,2.5,3])\n",
        "model.fit(xs,ys,epochs =5)\n"
      ],
      "execution_count": 0,
      "outputs": [
        {
          "output_type": "stream",
          "text": [
            "Epoch 1/5\n",
            "5/5 [==============================] - 0s 76ms/step - loss: 0.2776 - mean_squared_error: 0.2776 - mean_absolute_error: 0.4322 - mean_absolute_percentage_error: 19.7264 - cosine_proximity: -1.0000\n",
            "Epoch 2/5\n",
            "5/5 [==============================] - 0s 257us/step - loss: 0.0921 - mean_squared_error: 0.0921 - mean_absolute_error: 0.2632 - mean_absolute_percentage_error: 14.3069 - cosine_proximity: -1.0000\n",
            "Epoch 3/5\n",
            "5/5 [==============================] - 0s 204us/step - loss: 0.0576 - mean_squared_error: 0.0576 - mean_absolute_error: 0.2046 - mean_absolute_percentage_error: 12.8055 - cosine_proximity: -1.0000\n",
            "Epoch 4/5\n",
            "5/5 [==============================] - 0s 236us/step - loss: 0.0502 - mean_squared_error: 0.0502 - mean_absolute_error: 0.1954 - mean_absolute_percentage_error: 12.9731 - cosine_proximity: -1.0000\n",
            "Epoch 5/5\n",
            "5/5 [==============================] - 0s 203us/step - loss: 0.0483 - mean_squared_error: 0.0483 - mean_absolute_error: 0.1907 - mean_absolute_percentage_error: 13.0122 - cosine_proximity: -1.0000\n"
          ],
          "name": "stdout"
        },
        {
          "output_type": "execute_result",
          "data": {
            "text/plain": [
              "<keras.callbacks.History at 0x7f093cb84940>"
            ]
          },
          "metadata": {
            "tags": []
          },
          "execution_count": 20
        }
      ]
    },
    {
      "cell_type": "code",
      "metadata": {
        "id": "NXLQK4fwAtqn",
        "colab_type": "code",
        "outputId": "7006c490-1a9e-42c7-ebb7-fd06b9c2451d",
        "colab": {
          "base_uri": "https://localhost:8080/",
          "height": 34
        }
      },
      "source": [
        "print(model.predict([7.0]))"
      ],
      "execution_count": 0,
      "outputs": [
        {
          "output_type": "stream",
          "text": [
            "[[4.493015]]\n"
          ],
          "name": "stdout"
        }
      ]
    }
  ]
}